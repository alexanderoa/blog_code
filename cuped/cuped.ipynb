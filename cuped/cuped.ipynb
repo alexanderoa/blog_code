{
 "cells": [
  {
   "cell_type": "code",
   "execution_count": 74,
   "metadata": {},
   "outputs": [],
   "source": [
    "import numpy as np\n",
    "import pandas as pd\n",
    "import statsmodels.api as sm\n",
    "import statsmodels.formula.api as smf"
   ]
  },
  {
   "cell_type": "code",
   "execution_count": 78,
   "metadata": {},
   "outputs": [],
   "source": [
    "def cuped_generator(\n",
    "    sample_size = 500,\n",
    "    t_proportion = 0.5,\n",
    "    effect_size = 0.5,\n",
    "    seed = 123\n",
    "):\n",
    "    rng = np.random.default_rng(seed=seed)\n",
    "\n",
    "    t = rng.binomial(n=1,p=t_proportion,size=(sample_size,))\n",
    "    pre = rng.normal(loc=5, scale=2, size=(sample_size,))\n",
    "    post = (\n",
    "        pre + \n",
    "        rng.normal(loc=3, size=(sample_size,)) + \n",
    "        t*effect_size\n",
    "    )\n",
    "    pre_normal = pre - np.mean(pre)\n",
    "    df = pd.DataFrame(\n",
    "        {\n",
    "            'Treatment': t,\n",
    "            \"Pre_trigger\" : pre,\n",
    "            \"Post_trigger\" : post,\n",
    "            \"Pre_normalized\" : pre_normal\n",
    "        }\n",
    "    )\n",
    "    return df"
   ]
  },
  {
   "cell_type": "code",
   "execution_count": 88,
   "metadata": {},
   "outputs": [
    {
     "data": {
      "text/html": [
       "<table class=\"simpletable\">\n",
       "<caption>OLS Regression Results</caption>\n",
       "<tr>\n",
       "  <th>Dep. Variable:</th>    <td>Post_trigger</td> <th>  R-squared:         </th> <td>   0.013</td>\n",
       "</tr>\n",
       "<tr>\n",
       "  <th>Model:</th>                 <td>OLS</td>     <th>  Adj. R-squared:    </th> <td>   0.011</td>\n",
       "</tr>\n",
       "<tr>\n",
       "  <th>No. Observations:</th>    <td>   500</td>    <th>  F-statistic:       </th> <td>   6.354</td>\n",
       "</tr>\n",
       "<tr>\n",
       "  <th>Covariance Type:</th>       <td>HC2</td>     <th>  Prob (F-statistic):</th>  <td>0.0120</td> \n",
       "</tr>\n",
       "</table>\n",
       "<table class=\"simpletable\">\n",
       "<tr>\n",
       "      <td></td>         <th>coef</th>     <th>std err</th>      <th>t</th>      <th>P>|t|</th>  <th>[0.025</th>    <th>0.975]</th>  \n",
       "</tr>\n",
       "<tr>\n",
       "  <th>Intercept</th> <td>    7.8951</td> <td>    0.139</td> <td>   56.672</td> <td> 0.000</td> <td>    7.621</td> <td>    8.169</td>\n",
       "</tr>\n",
       "<tr>\n",
       "  <th>Treatment</th> <td>    0.5008</td> <td>    0.199</td> <td>    2.521</td> <td> 0.012</td> <td>    0.110</td> <td>    0.891</td>\n",
       "</tr>\n",
       "</table><br/><br/>Notes:<br/>[1] Standard Errors are heteroscedasticity robust (HC2)"
      ],
      "text/plain": [
       "<class 'statsmodels.iolib.summary.Summary'>\n",
       "\"\"\"\n",
       "                            OLS Regression Results                            \n",
       "==============================================================================\n",
       "Dep. Variable:           Post_trigger   R-squared:                       0.013\n",
       "Model:                            OLS   Adj. R-squared:                  0.011\n",
       "No. Observations:                 500   F-statistic:                     6.354\n",
       "Covariance Type:                  HC2   Prob (F-statistic):             0.0120\n",
       "==============================================================================\n",
       "                 coef    std err          t      P>|t|      [0.025      0.975]\n",
       "------------------------------------------------------------------------------\n",
       "Intercept      7.8951      0.139     56.672      0.000       7.621       8.169\n",
       "Treatment      0.5008      0.199      2.521      0.012       0.110       0.891\n",
       "==============================================================================\n",
       "\n",
       "Notes:\n",
       "[1] Standard Errors are heteroscedasticity robust (HC2)\n",
       "\"\"\""
      ]
     },
     "execution_count": 88,
     "metadata": {},
     "output_type": "execute_result"
    }
   ],
   "source": [
    "data = cuped_generator(seed=10)\n",
    "reg = smf.ols(\"Post_trigger ~ Treatment\",data).fit()\n",
    "reg.get_robustcov_results('HC2').summary(slim=True)"
   ]
  },
  {
   "cell_type": "code",
   "execution_count": 89,
   "metadata": {},
   "outputs": [
    {
     "data": {
      "text/html": [
       "<table class=\"simpletable\">\n",
       "<caption>OLS Regression Results</caption>\n",
       "<tr>\n",
       "  <th>Dep. Variable:</th>    <td>Post_cuped</td> <th>  R-squared:         </th> <td>   0.020</td>\n",
       "</tr>\n",
       "<tr>\n",
       "  <th>Model:</th>                <td>OLS</td>    <th>  Adj. R-squared:    </th> <td>   0.018</td>\n",
       "</tr>\n",
       "<tr>\n",
       "  <th>No. Observations:</th>   <td>   500</td>   <th>  F-statistic:       </th> <td>   10.25</td>\n",
       "</tr>\n",
       "<tr>\n",
       "  <th>Covariance Type:</th>      <td>HC2</td>    <th>  Prob (F-statistic):</th>  <td>0.00145</td>\n",
       "</tr>\n",
       "</table>\n",
       "<table class=\"simpletable\">\n",
       "<tr>\n",
       "      <td></td>         <th>coef</th>     <th>std err</th>      <th>t</th>      <th>P>|t|</th>  <th>[0.025</th>    <th>0.975]</th>  \n",
       "</tr>\n",
       "<tr>\n",
       "  <th>Intercept</th> <td>    7.9225</td> <td>    0.100</td> <td>   79.243</td> <td> 0.000</td> <td>    7.726</td> <td>    8.119</td>\n",
       "</tr>\n",
       "<tr>\n",
       "  <th>Treatment</th> <td>    0.4454</td> <td>    0.139</td> <td>    3.202</td> <td> 0.001</td> <td>    0.172</td> <td>    0.719</td>\n",
       "</tr>\n",
       "</table><br/><br/>Notes:<br/>[1] Standard Errors are heteroscedasticity robust (HC2)"
      ],
      "text/plain": [
       "<class 'statsmodels.iolib.summary.Summary'>\n",
       "\"\"\"\n",
       "                            OLS Regression Results                            \n",
       "==============================================================================\n",
       "Dep. Variable:             Post_cuped   R-squared:                       0.020\n",
       "Model:                            OLS   Adj. R-squared:                  0.018\n",
       "No. Observations:                 500   F-statistic:                     10.25\n",
       "Covariance Type:                  HC2   Prob (F-statistic):            0.00145\n",
       "==============================================================================\n",
       "                 coef    std err          t      P>|t|      [0.025      0.975]\n",
       "------------------------------------------------------------------------------\n",
       "Intercept      7.9225      0.100     79.243      0.000       7.726       8.119\n",
       "Treatment      0.4454      0.139      3.202      0.001       0.172       0.719\n",
       "==============================================================================\n",
       "\n",
       "Notes:\n",
       "[1] Standard Errors are heteroscedasticity robust (HC2)\n",
       "\"\"\""
      ]
     },
     "execution_count": 89,
     "metadata": {},
     "output_type": "execute_result"
    }
   ],
   "source": [
    "cuped_lm = sm.OLS(data['Post_trigger'], data['Pre_trigger']).fit()\n",
    "theta = cuped_lm.params[0]\n",
    "data['Post_cuped'] = data['Post_trigger'] - theta*data['Pre_normalized']\n",
    "cuped_reg = smf.ols(\"Post_cuped ~ Treatment\", data).fit()\n",
    "cuped_reg.get_robustcov_results('HC2').summary(slim=True)"
   ]
  },
  {
   "cell_type": "code",
   "execution_count": 90,
   "metadata": {},
   "outputs": [
    {
     "data": {
      "text/html": [
       "<table class=\"simpletable\">\n",
       "<caption>OLS Regression Results</caption>\n",
       "<tr>\n",
       "  <th>Dep. Variable:</th>    <td>Post_trigger</td> <th>  R-squared:         </th> <td>   0.784</td> \n",
       "</tr>\n",
       "<tr>\n",
       "  <th>Model:</th>                 <td>OLS</td>     <th>  Adj. R-squared:    </th> <td>   0.782</td> \n",
       "</tr>\n",
       "<tr>\n",
       "  <th>No. Observations:</th>    <td>   500</td>    <th>  F-statistic:       </th> <td>   628.7</td> \n",
       "</tr>\n",
       "<tr>\n",
       "  <th>Covariance Type:</th>       <td>HC2</td>     <th>  Prob (F-statistic):</th> <td>1.56e-168</td>\n",
       "</tr>\n",
       "</table>\n",
       "<table class=\"simpletable\">\n",
       "<tr>\n",
       "              <td></td>                <th>coef</th>     <th>std err</th>      <th>t</th>      <th>P>|t|</th>  <th>[0.025</th>    <th>0.975]</th>  \n",
       "</tr>\n",
       "<tr>\n",
       "  <th>Intercept</th>                <td>    3.1339</td> <td>    0.183</td> <td>   17.153</td> <td> 0.000</td> <td>    2.775</td> <td>    3.493</td>\n",
       "</tr>\n",
       "<tr>\n",
       "  <th>Treatment</th>                <td>    0.4660</td> <td>    0.093</td> <td>    5.004</td> <td> 0.000</td> <td>    0.283</td> <td>    0.649</td>\n",
       "</tr>\n",
       "<tr>\n",
       "  <th>Pre_trigger</th>              <td>    0.9722</td> <td>    0.034</td> <td>   28.842</td> <td> 0.000</td> <td>    0.906</td> <td>    1.038</td>\n",
       "</tr>\n",
       "<tr>\n",
       "  <th>Treatment:Pre_normalized</th> <td>    0.0203</td> <td>    0.046</td> <td>    0.444</td> <td> 0.657</td> <td>   -0.070</td> <td>    0.110</td>\n",
       "</tr>\n",
       "</table><br/><br/>Notes:<br/>[1] Standard Errors are heteroscedasticity robust (HC2)"
      ],
      "text/plain": [
       "<class 'statsmodels.iolib.summary.Summary'>\n",
       "\"\"\"\n",
       "                            OLS Regression Results                            \n",
       "==============================================================================\n",
       "Dep. Variable:           Post_trigger   R-squared:                       0.784\n",
       "Model:                            OLS   Adj. R-squared:                  0.782\n",
       "No. Observations:                 500   F-statistic:                     628.7\n",
       "Covariance Type:                  HC2   Prob (F-statistic):          1.56e-168\n",
       "============================================================================================\n",
       "                               coef    std err          t      P>|t|      [0.025      0.975]\n",
       "--------------------------------------------------------------------------------------------\n",
       "Intercept                    3.1339      0.183     17.153      0.000       2.775       3.493\n",
       "Treatment                    0.4660      0.093      5.004      0.000       0.283       0.649\n",
       "Pre_trigger                  0.9722      0.034     28.842      0.000       0.906       1.038\n",
       "Treatment:Pre_normalized     0.0203      0.046      0.444      0.657      -0.070       0.110\n",
       "============================================================================================\n",
       "\n",
       "Notes:\n",
       "[1] Standard Errors are heteroscedasticity robust (HC2)\n",
       "\"\"\""
      ]
     },
     "execution_count": 90,
     "metadata": {},
     "output_type": "execute_result"
    }
   ],
   "source": [
    "reg_adj = smf.ols(\n",
    "    formula=\"Post_trigger ~ Treatment + Pre_trigger + Treatment:Pre_normalized\",\n",
    "    data=data).fit()\n",
    "reg_adj.get_robustcov_results('HC2').summary(slim=True)"
   ]
  }
 ],
 "metadata": {
  "kernelspec": {
   "display_name": "Python 3.7.13 ('cfe')",
   "language": "python",
   "name": "python3"
  },
  "language_info": {
   "codemirror_mode": {
    "name": "ipython",
    "version": 3
   },
   "file_extension": ".py",
   "mimetype": "text/x-python",
   "name": "python",
   "nbconvert_exporter": "python",
   "pygments_lexer": "ipython3",
   "version": "3.7.13"
  },
  "orig_nbformat": 4,
  "vscode": {
   "interpreter": {
    "hash": "ed9f6bfafb24424ac2d7c1a0180a98b6559823ee37c889981a56c6d18cd38889"
   }
  }
 },
 "nbformat": 4,
 "nbformat_minor": 2
}
