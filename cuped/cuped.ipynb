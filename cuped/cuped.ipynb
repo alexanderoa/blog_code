{
 "cells": [
  {
   "cell_type": "code",
   "execution_count": 74,
   "metadata": {},
   "outputs": [],
   "source": [
    "import numpy as np\n",
    "import pandas as pd\n",
    "import statsmodels.api as sm\n",
    "import statsmodels.formula.api as smf\n",
    "from cuped_utils import *"
   ]
  },
  {
   "cell_type": "code",
   "execution_count": null,
   "metadata": {},
   "outputs": [],
   "source": []
  },
  {
   "cell_type": "code",
   "execution_count": 3,
   "metadata": {},
   "outputs": [
    {
     "data": {
      "text/html": [
       "<table class=\"simpletable\">\n",
       "<caption>OLS Regression Results</caption>\n",
       "<tr>\n",
       "  <th>Dep. Variable:</th>    <td>Post_trigger</td> <th>  R-squared:         </th> <td>   0.019</td>\n",
       "</tr>\n",
       "<tr>\n",
       "  <th>Model:</th>                 <td>OLS</td>     <th>  Adj. R-squared:    </th> <td>   0.017</td>\n",
       "</tr>\n",
       "<tr>\n",
       "  <th>No. Observations:</th>    <td>   500</td>    <th>  F-statistic:       </th> <td>   9.640</td>\n",
       "</tr>\n",
       "<tr>\n",
       "  <th>Covariance Type:</th>       <td>HC2</td>     <th>  Prob (F-statistic):</th>  <td>0.00201</td>\n",
       "</tr>\n",
       "</table>\n",
       "<table class=\"simpletable\">\n",
       "<tr>\n",
       "      <td></td>         <th>coef</th>     <th>std err</th>      <th>t</th>      <th>P>|t|</th>  <th>[0.025</th>    <th>0.975]</th>  \n",
       "</tr>\n",
       "<tr>\n",
       "  <th>Intercept</th> <td>    8.0120</td> <td>    0.132</td> <td>   60.518</td> <td> 0.000</td> <td>    7.752</td> <td>    8.272</td>\n",
       "</tr>\n",
       "<tr>\n",
       "  <th>Treatment</th> <td>    0.6232</td> <td>    0.201</td> <td>    3.105</td> <td> 0.002</td> <td>    0.229</td> <td>    1.018</td>\n",
       "</tr>\n",
       "</table><br/><br/>Notes:<br/>[1] Standard Errors are heteroscedasticity robust (HC2)"
      ],
      "text/plain": [
       "<class 'statsmodels.iolib.summary.Summary'>\n",
       "\"\"\"\n",
       "                            OLS Regression Results                            \n",
       "==============================================================================\n",
       "Dep. Variable:           Post_trigger   R-squared:                       0.019\n",
       "Model:                            OLS   Adj. R-squared:                  0.017\n",
       "No. Observations:                 500   F-statistic:                     9.640\n",
       "Covariance Type:                  HC2   Prob (F-statistic):            0.00201\n",
       "==============================================================================\n",
       "                 coef    std err          t      P>|t|      [0.025      0.975]\n",
       "------------------------------------------------------------------------------\n",
       "Intercept      8.0120      0.132     60.518      0.000       7.752       8.272\n",
       "Treatment      0.6232      0.201      3.105      0.002       0.229       1.018\n",
       "==============================================================================\n",
       "\n",
       "Notes:\n",
       "[1] Standard Errors are heteroscedasticity robust (HC2)\n",
       "\"\"\""
      ]
     },
     "execution_count": 3,
     "metadata": {},
     "output_type": "execute_result"
    }
   ],
   "source": [
    "data = cuped_generator()\n",
    "reg = smf.ols(\"Post_trigger ~ Treatment\",data).fit()\n",
    "reg.get_robustcov_results('HC2').summary(slim=True)"
   ]
  },
  {
   "cell_type": "code",
   "execution_count": 5,
   "metadata": {},
   "outputs": [
    {
     "data": {
      "text/html": [
       "<table class=\"simpletable\">\n",
       "<caption>OLS Regression Results</caption>\n",
       "<tr>\n",
       "  <th>Dep. Variable:</th>    <td>Post_cuped</td> <th>  R-squared:         </th> <td>   0.024</td>\n",
       "</tr>\n",
       "<tr>\n",
       "  <th>Model:</th>                <td>OLS</td>    <th>  Adj. R-squared:    </th> <td>   0.022</td>\n",
       "</tr>\n",
       "<tr>\n",
       "  <th>No. Observations:</th>   <td>   500</td>   <th>  F-statistic:       </th> <td>   11.98</td>\n",
       "</tr>\n",
       "<tr>\n",
       "  <th>Covariance Type:</th>      <td>HC2</td>    <th>  Prob (F-statistic):</th> <td>0.000584</td>\n",
       "</tr>\n",
       "</table>\n",
       "<table class=\"simpletable\">\n",
       "<tr>\n",
       "      <td></td>         <th>coef</th>     <th>std err</th>      <th>t</th>      <th>P>|t|</th>  <th>[0.025</th>    <th>0.975]</th>  \n",
       "</tr>\n",
       "<tr>\n",
       "  <th>Intercept</th> <td>    8.0786</td> <td>    0.096</td> <td>   83.955</td> <td> 0.000</td> <td>    7.890</td> <td>    8.268</td>\n",
       "</tr>\n",
       "<tr>\n",
       "  <th>Treatment</th> <td>    0.4845</td> <td>    0.140</td> <td>    3.461</td> <td> 0.001</td> <td>    0.209</td> <td>    0.759</td>\n",
       "</tr>\n",
       "</table><br/><br/>Notes:<br/>[1] Standard Errors are heteroscedasticity robust (HC2)"
      ],
      "text/plain": [
       "<class 'statsmodels.iolib.summary.Summary'>\n",
       "\"\"\"\n",
       "                            OLS Regression Results                            \n",
       "==============================================================================\n",
       "Dep. Variable:             Post_cuped   R-squared:                       0.024\n",
       "Model:                            OLS   Adj. R-squared:                  0.022\n",
       "No. Observations:                 500   F-statistic:                     11.98\n",
       "Covariance Type:                  HC2   Prob (F-statistic):           0.000584\n",
       "==============================================================================\n",
       "                 coef    std err          t      P>|t|      [0.025      0.975]\n",
       "------------------------------------------------------------------------------\n",
       "Intercept      8.0786      0.096     83.955      0.000       7.890       8.268\n",
       "Treatment      0.4845      0.140      3.461      0.001       0.209       0.759\n",
       "==============================================================================\n",
       "\n",
       "Notes:\n",
       "[1] Standard Errors are heteroscedasticity robust (HC2)\n",
       "\"\"\""
      ]
     },
     "execution_count": 5,
     "metadata": {},
     "output_type": "execute_result"
    }
   ],
   "source": [
    "cuped_lm = sm.OLS(data['Post_trigger'], data['Pre_trigger']).fit()\n",
    "theta = cuped_lm.params[0]\n",
    "data['Post_cuped'] = data['Post_trigger'] - theta*data['Pre_normalized']\n",
    "cuped_reg = smf.ols(\"Post_cuped ~ Treatment\", data).fit()\n",
    "cuped_reg.get_robustcov_results('HC2').summary(slim=True)"
   ]
  },
  {
   "cell_type": "code",
   "execution_count": 6,
   "metadata": {},
   "outputs": [
    {
     "data": {
      "text/html": [
       "<table class=\"simpletable\">\n",
       "<caption>OLS Regression Results</caption>\n",
       "<tr>\n",
       "  <th>Dep. Variable:</th>    <td>Post_trigger</td> <th>  R-squared:         </th> <td>   0.789</td> \n",
       "</tr>\n",
       "<tr>\n",
       "  <th>Model:</th>                 <td>OLS</td>     <th>  Adj. R-squared:    </th> <td>   0.787</td> \n",
       "</tr>\n",
       "<tr>\n",
       "  <th>No. Observations:</th>    <td>   500</td>    <th>  F-statistic:       </th> <td>   665.8</td> \n",
       "</tr>\n",
       "<tr>\n",
       "  <th>Covariance Type:</th>       <td>HC2</td>     <th>  Prob (F-statistic):</th> <td>1.89e-173</td>\n",
       "</tr>\n",
       "</table>\n",
       "<table class=\"simpletable\">\n",
       "<tr>\n",
       "              <td></td>                <th>coef</th>     <th>std err</th>      <th>t</th>      <th>P>|t|</th>  <th>[0.025</th>    <th>0.975]</th>  \n",
       "</tr>\n",
       "<tr>\n",
       "  <th>Intercept</th>                <td>    3.2001</td> <td>    0.175</td> <td>   18.334</td> <td> 0.000</td> <td>    2.857</td> <td>    3.543</td>\n",
       "</tr>\n",
       "<tr>\n",
       "  <th>Treatment</th>                <td>    0.5360</td> <td>    0.093</td> <td>    5.757</td> <td> 0.000</td> <td>    0.353</td> <td>    0.719</td>\n",
       "</tr>\n",
       "<tr>\n",
       "  <th>Pre_trigger</th>              <td>    0.9568</td> <td>    0.033</td> <td>   29.373</td> <td> 0.000</td> <td>    0.893</td> <td>    1.021</td>\n",
       "</tr>\n",
       "<tr>\n",
       "  <th>Treatment:Pre_normalized</th> <td>    0.0303</td> <td>    0.045</td> <td>    0.680</td> <td> 0.497</td> <td>   -0.057</td> <td>    0.118</td>\n",
       "</tr>\n",
       "</table><br/><br/>Notes:<br/>[1] Standard Errors are heteroscedasticity robust (HC2)"
      ],
      "text/plain": [
       "<class 'statsmodels.iolib.summary.Summary'>\n",
       "\"\"\"\n",
       "                            OLS Regression Results                            \n",
       "==============================================================================\n",
       "Dep. Variable:           Post_trigger   R-squared:                       0.789\n",
       "Model:                            OLS   Adj. R-squared:                  0.787\n",
       "No. Observations:                 500   F-statistic:                     665.8\n",
       "Covariance Type:                  HC2   Prob (F-statistic):          1.89e-173\n",
       "============================================================================================\n",
       "                               coef    std err          t      P>|t|      [0.025      0.975]\n",
       "--------------------------------------------------------------------------------------------\n",
       "Intercept                    3.2001      0.175     18.334      0.000       2.857       3.543\n",
       "Treatment                    0.5360      0.093      5.757      0.000       0.353       0.719\n",
       "Pre_trigger                  0.9568      0.033     29.373      0.000       0.893       1.021\n",
       "Treatment:Pre_normalized     0.0303      0.045      0.680      0.497      -0.057       0.118\n",
       "============================================================================================\n",
       "\n",
       "Notes:\n",
       "[1] Standard Errors are heteroscedasticity robust (HC2)\n",
       "\"\"\""
      ]
     },
     "execution_count": 6,
     "metadata": {},
     "output_type": "execute_result"
    }
   ],
   "source": [
    "reg_adj = smf.ols(\n",
    "    formula=\"Post_trigger ~ Treatment + Pre_trigger + Treatment:Pre_normalized\",\n",
    "    data=data).fit()\n",
    "reg_adj.get_robustcov_results('HC2').summary(slim=True)"
   ]
  }
 ],
 "metadata": {
  "kernelspec": {
   "display_name": "Python 3.7.13 ('cfe')",
   "language": "python",
   "name": "python3"
  },
  "language_info": {
   "codemirror_mode": {
    "name": "ipython",
    "version": 3
   },
   "file_extension": ".py",
   "mimetype": "text/x-python",
   "name": "python",
   "nbconvert_exporter": "python",
   "pygments_lexer": "ipython3",
   "version": "3.7.13"
  },
  "orig_nbformat": 4,
  "vscode": {
   "interpreter": {
    "hash": "ed9f6bfafb24424ac2d7c1a0180a98b6559823ee37c889981a56c6d18cd38889"
   }
  }
 },
 "nbformat": 4,
 "nbformat_minor": 2
}
