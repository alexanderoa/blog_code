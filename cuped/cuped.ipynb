{
 "cells": [
  {
   "cell_type": "markdown",
   "metadata": {},
   "source": [
    "## [WORK IN PROGRESS] Exploring CUPED (aka Control Variates)\n",
    "\n",
    "Imagine for a moment that you are a data scientist. A few engineers at your company have proposed a new feature, and you are tasked with running an experiment to assess the feature's potential impact on revenue. The experiment runs smoothly. However, when you reach the analysis stage, you get a p-value of 0.07, just above the typical p<0.05 threshold for significance. Hesitant to advocate for the feature without stronger evidence, you collect more data and obtain a p-value below 0.05. \n",
    "\n",
    "The scenario presented above is less than ideal. Each data point we collect costs time and money, so we would like to minimize the amount of data we need to make strong statistical claims. In general, we can only increase our statistical confidence in two ways: collect more data or decrease variance in our estimates. Since we want to minimize type spent in experimentation (and therefore provide better features faster), we need to think about decrease the variance in our estimates. There are *lots* of ways to do this, but here I'm going to focus on CUPED, also known as control variates. To keep this post brief, I'm going to assume some familiarity with causal inference and the potential outcomes framework. \n",
    "\n",
    "### Preliminaries\n",
    "\n",
    "Let's start with some notation. Let $Y$ be our outcome of interest and $T$ be our treatment indicator such that $T=0$ is the control group and $T=1$ denotes the treatment group. Suppose we have $n$ units in our experiment. In a simple random experiment, we randomly assign $n_t$ units to treatment and assign the remainder, $n_c=n-n_t$, to control. \n",
    "\n",
    "In causal inference, the most common quantity of interest is the *average treatment effect*, that is the difference in the average outcome of treament and control. We use $\\tau$ to denote the true average treatment effect (ATE).\n",
    "\n",
    "### The Default: Difference-in-Means\n",
    "\n",
    "A natural estimator of the ATE is\n",
    "$$\\hat{\\tau}_{diff} = \\frac{1}{n_t}\\sum_{i=1}^nY_iT_i - \\frac{1}{n_c}\\sum_{i=1}^nY_i(1-T_i)$$\n",
    "where we take the difference in the observed average outcome between treatment and control. Equivalently, we can use a linear regression of the form\n",
    "$$Y = \\hat{\\alpha} + \\hat{\\tau}_{reg} T$$\n",
    "to obtain $\\hat{\\tau}_{diff}=\\hat{\\tau}_{reg}$. This estimator, referred to as the difference-in-means (DiM) method, is compelling in its simplicity. However, DiM does not provide any mechanism for reducing variance, instead requiring more data to reduce uncertainty. In most experiments, we have some information that is related to the outcome. For example, in a clinical trial, a patient's age may be related to their risk of disease. If we don't use this information, we needlessly throw away potential efficiency gains (i.e. variance reduction).\n",
    "\n",
    "### Simple Yet Powerful: CUPED\n",
    "Here is where CUPED comes to the rescue. Suppose we have some variable $X$ that we've measured before the experiment begins. In the simplest terms, CUPED subtracts out the variance in $Y$ that is due to $X$, thereby reducing variance in our estimates. Specifically, we define $\\tilde{Y} = Y - \\theta(X-\\mathbb{E}[X])$, where $\\theta$ is any constant. We then apply DiM to $\\tilde{Y}$, such that\n",
    "$$\\hat{\\tau}_{cv} =  \\frac{1}{n_t}\\sum_{i=1}^n\\tilde{Y}_iT_i - \\frac{1}{n_c}\\sum_{i=1}^n\\tilde{Y}_i(1-T_i)$$\n",
    "$\\hat{\\tau}_{cv}$ is an unbiased estimator with $var(\\hat{\\tau}_{cv}) \\leq var(\\hat{\\tau}_{diff})$.\n",
    "\n",
    "This feels a little too easy, right? That's part of the beauty of CUPED! The theory is simple to understand as well. Since we are using random assignment, and since $X$ is measured *before* the experiment, $\\mathbb{E}[X|T=1] = \\mathbb{E}[X|T=0]$. \n",
    "\n",
    "### What About Regression?: Regression Adjustment"
   ]
  },
  {
   "cell_type": "code",
   "execution_count": 1,
   "metadata": {},
   "outputs": [],
   "source": [
    "import numpy as np\n",
    "import pandas as pd\n",
    "import statsmodels.api as sm\n",
    "import statsmodels.formula.api as smf\n",
    "import matplotlib.pyplot as plt\n",
    "import seaborn as sns\n",
    "\n",
    "from cuped_utils import *"
   ]
  },
  {
   "cell_type": "code",
   "execution_count": 5,
   "metadata": {},
   "outputs": [
    {
     "data": {
      "text/html": [
       "<table class=\"simpletable\">\n",
       "<caption>OLS Regression Results</caption>\n",
       "<tr>\n",
       "  <th>Dep. Variable:</th>    <td>Post_trigger</td> <th>  R-squared:         </th> <td>   0.019</td>\n",
       "</tr>\n",
       "<tr>\n",
       "  <th>Model:</th>                 <td>OLS</td>     <th>  Adj. R-squared:    </th> <td>   0.017</td>\n",
       "</tr>\n",
       "<tr>\n",
       "  <th>No. Observations:</th>    <td>   500</td>    <th>  F-statistic:       </th> <td>   9.640</td>\n",
       "</tr>\n",
       "<tr>\n",
       "  <th>Covariance Type:</th>       <td>HC2</td>     <th>  Prob (F-statistic):</th>  <td>0.00201</td>\n",
       "</tr>\n",
       "</table>\n",
       "<table class=\"simpletable\">\n",
       "<tr>\n",
       "      <td></td>         <th>coef</th>     <th>std err</th>      <th>t</th>      <th>P>|t|</th>  <th>[0.025</th>    <th>0.975]</th>  \n",
       "</tr>\n",
       "<tr>\n",
       "  <th>Intercept</th> <td>    8.0120</td> <td>    0.132</td> <td>   60.518</td> <td> 0.000</td> <td>    7.752</td> <td>    8.272</td>\n",
       "</tr>\n",
       "<tr>\n",
       "  <th>Treatment</th> <td>    0.6232</td> <td>    0.201</td> <td>    3.105</td> <td> 0.002</td> <td>    0.229</td> <td>    1.018</td>\n",
       "</tr>\n",
       "</table><br/><br/>Notes:<br/>[1] Standard Errors are heteroscedasticity robust (HC2)"
      ],
      "text/plain": [
       "<class 'statsmodels.iolib.summary.Summary'>\n",
       "\"\"\"\n",
       "                            OLS Regression Results                            \n",
       "==============================================================================\n",
       "Dep. Variable:           Post_trigger   R-squared:                       0.019\n",
       "Model:                            OLS   Adj. R-squared:                  0.017\n",
       "No. Observations:                 500   F-statistic:                     9.640\n",
       "Covariance Type:                  HC2   Prob (F-statistic):            0.00201\n",
       "==============================================================================\n",
       "                 coef    std err          t      P>|t|      [0.025      0.975]\n",
       "------------------------------------------------------------------------------\n",
       "Intercept      8.0120      0.132     60.518      0.000       7.752       8.272\n",
       "Treatment      0.6232      0.201      3.105      0.002       0.229       1.018\n",
       "==============================================================================\n",
       "\n",
       "Notes:\n",
       "[1] Standard Errors are heteroscedasticity robust (HC2)\n",
       "\"\"\""
      ]
     },
     "execution_count": 5,
     "metadata": {},
     "output_type": "execute_result"
    }
   ],
   "source": [
    "data = cuped_generator()\n",
    "reg = smf.ols(\"Post_trigger ~ Treatment\",data).fit()\n",
    "reg.get_robustcov_results('HC2').summary(slim=True)"
   ]
  },
  {
   "cell_type": "code",
   "execution_count": 5,
   "metadata": {},
   "outputs": [
    {
     "data": {
      "text/html": [
       "<table class=\"simpletable\">\n",
       "<caption>OLS Regression Results</caption>\n",
       "<tr>\n",
       "  <th>Dep. Variable:</th>    <td>Post_cuped</td> <th>  R-squared:         </th> <td>   0.024</td>\n",
       "</tr>\n",
       "<tr>\n",
       "  <th>Model:</th>                <td>OLS</td>    <th>  Adj. R-squared:    </th> <td>   0.022</td>\n",
       "</tr>\n",
       "<tr>\n",
       "  <th>No. Observations:</th>   <td>   500</td>   <th>  F-statistic:       </th> <td>   11.98</td>\n",
       "</tr>\n",
       "<tr>\n",
       "  <th>Covariance Type:</th>      <td>HC2</td>    <th>  Prob (F-statistic):</th> <td>0.000584</td>\n",
       "</tr>\n",
       "</table>\n",
       "<table class=\"simpletable\">\n",
       "<tr>\n",
       "      <td></td>         <th>coef</th>     <th>std err</th>      <th>t</th>      <th>P>|t|</th>  <th>[0.025</th>    <th>0.975]</th>  \n",
       "</tr>\n",
       "<tr>\n",
       "  <th>Intercept</th> <td>    8.0786</td> <td>    0.096</td> <td>   83.955</td> <td> 0.000</td> <td>    7.890</td> <td>    8.268</td>\n",
       "</tr>\n",
       "<tr>\n",
       "  <th>Treatment</th> <td>    0.4845</td> <td>    0.140</td> <td>    3.461</td> <td> 0.001</td> <td>    0.209</td> <td>    0.759</td>\n",
       "</tr>\n",
       "</table><br/><br/>Notes:<br/>[1] Standard Errors are heteroscedasticity robust (HC2)"
      ],
      "text/plain": [
       "<class 'statsmodels.iolib.summary.Summary'>\n",
       "\"\"\"\n",
       "                            OLS Regression Results                            \n",
       "==============================================================================\n",
       "Dep. Variable:             Post_cuped   R-squared:                       0.024\n",
       "Model:                            OLS   Adj. R-squared:                  0.022\n",
       "No. Observations:                 500   F-statistic:                     11.98\n",
       "Covariance Type:                  HC2   Prob (F-statistic):           0.000584\n",
       "==============================================================================\n",
       "                 coef    std err          t      P>|t|      [0.025      0.975]\n",
       "------------------------------------------------------------------------------\n",
       "Intercept      8.0786      0.096     83.955      0.000       7.890       8.268\n",
       "Treatment      0.4845      0.140      3.461      0.001       0.209       0.759\n",
       "==============================================================================\n",
       "\n",
       "Notes:\n",
       "[1] Standard Errors are heteroscedasticity robust (HC2)\n",
       "\"\"\""
      ]
     },
     "execution_count": 5,
     "metadata": {},
     "output_type": "execute_result"
    }
   ],
   "source": [
    "cuped_lm = sm.OLS(data['Post_trigger'], data['Pre_trigger']).fit()\n",
    "theta = cuped_lm.params[0]\n",
    "data['Post_cuped'] = data['Post_trigger'] - theta*data['Pre_normalized']\n",
    "cuped_reg = smf.ols(\"Post_cuped ~ Treatment\", data).fit()\n",
    "cuped_reg.get_robustcov_results('HC2').summary(slim=True)"
   ]
  },
  {
   "cell_type": "code",
   "execution_count": 8,
   "metadata": {},
   "outputs": [
    {
     "data": {
      "text/html": [
       "<table class=\"simpletable\">\n",
       "<caption>OLS Regression Results</caption>\n",
       "<tr>\n",
       "  <th>Dep. Variable:</th>    <td>Post_trigger</td> <th>  R-squared:         </th> <td>   0.788</td> \n",
       "</tr>\n",
       "<tr>\n",
       "  <th>Model:</th>                 <td>OLS</td>     <th>  Adj. R-squared:    </th> <td>   0.788</td> \n",
       "</tr>\n",
       "<tr>\n",
       "  <th>No. Observations:</th>    <td>   500</td>    <th>  F-statistic:       </th> <td>   998.5</td> \n",
       "</tr>\n",
       "<tr>\n",
       "  <th>Covariance Type:</th>       <td>HC2</td>     <th>  Prob (F-statistic):</th> <td>8.26e-175</td>\n",
       "</tr>\n",
       "</table>\n",
       "<table class=\"simpletable\">\n",
       "<tr>\n",
       "       <td></td>          <th>coef</th>     <th>std err</th>      <th>t</th>      <th>P>|t|</th>  <th>[0.025</th>    <th>0.975]</th>  \n",
       "</tr>\n",
       "<tr>\n",
       "  <th>Intercept</th>   <td>    3.1204</td> <td>    0.128</td> <td>   24.396</td> <td> 0.000</td> <td>    2.869</td> <td>    3.372</td>\n",
       "</tr>\n",
       "<tr>\n",
       "  <th>Treatment</th>   <td>    0.5360</td> <td>    0.093</td> <td>    5.760</td> <td> 0.000</td> <td>    0.353</td> <td>    0.719</td>\n",
       "</tr>\n",
       "<tr>\n",
       "  <th>Pre_trigger</th> <td>    0.9726</td> <td>    0.022</td> <td>   43.843</td> <td> 0.000</td> <td>    0.929</td> <td>    1.016</td>\n",
       "</tr>\n",
       "</table><br/><br/>Notes:<br/>[1] Standard Errors are heteroscedasticity robust (HC2)"
      ],
      "text/plain": [
       "<class 'statsmodels.iolib.summary.Summary'>\n",
       "\"\"\"\n",
       "                            OLS Regression Results                            \n",
       "==============================================================================\n",
       "Dep. Variable:           Post_trigger   R-squared:                       0.788\n",
       "Model:                            OLS   Adj. R-squared:                  0.788\n",
       "No. Observations:                 500   F-statistic:                     998.5\n",
       "Covariance Type:                  HC2   Prob (F-statistic):          8.26e-175\n",
       "===============================================================================\n",
       "                  coef    std err          t      P>|t|      [0.025      0.975]\n",
       "-------------------------------------------------------------------------------\n",
       "Intercept       3.1204      0.128     24.396      0.000       2.869       3.372\n",
       "Treatment       0.5360      0.093      5.760      0.000       0.353       0.719\n",
       "Pre_trigger     0.9726      0.022     43.843      0.000       0.929       1.016\n",
       "===============================================================================\n",
       "\n",
       "Notes:\n",
       "[1] Standard Errors are heteroscedasticity robust (HC2)\n",
       "\"\"\""
      ]
     },
     "execution_count": 8,
     "metadata": {},
     "output_type": "execute_result"
    }
   ],
   "source": [
    "reg_adj = smf.ols(\n",
    "    formula=\"Post_trigger ~ Treatment + Pre_trigger + Treatment:Pre_normalized\",\n",
    "    data=data).fit()\n",
    "reg_adj.get_robustcov_results('HC2').summary(slim=True)"
   ]
  },
  {
   "cell_type": "code",
   "execution_count": 4,
   "metadata": {},
   "outputs": [
    {
     "data": {
      "text/plain": [
       "<AxesSubplot:xlabel='estimate', ylabel='Density'>"
      ]
     },
     "execution_count": 4,
     "metadata": {},
     "output_type": "execute_result"
    },
    {
     "data": {
      "image/png": "[encoded data removed]",
      "text/plain": [
       "<Figure size 640x480 with 1 Axes>"
      ]
     },
     "metadata": {},
     "output_type": "display_data"
    }
   ],
   "source": [
    "n = 10000\n",
    "sample_size = 500\n",
    "simple, cuped, adjust = many_cuped_sims(n_sims=n)\n",
    "df = pd.DataFrame()\n",
    "simple_df = pd.DataFrame({'label':['simple']*n, 'estimate':simple})\n",
    "cuped_df = pd.DataFrame({'label':['cuped']*n, 'estimate':cuped})\n",
    "adjust_df = pd.DataFrame({'label':['adjust']*n, 'estimate':adjust})\n",
    "\n",
    "df = df.append([simple_df, cuped_df, adjust_df])\n",
    "sns.kdeplot(x='estimate', hue = 'label', data=df)"
   ]
  }
 ],
 "metadata": {
  "kernelspec": {
   "display_name": "Python 3.7.13 ('cfe')",
   "language": "python",
   "name": "python3"
  },
  "language_info": {
   "codemirror_mode": {
    "name": "ipython",
    "version": 3
   },
   "file_extension": ".py",
   "mimetype": "text/x-python",
   "name": "python",
   "nbconvert_exporter": "python",
   "pygments_lexer": "ipython3",
   "version": "3.7.13"
  },
  "orig_nbformat": 4,
  "vscode": {
   "interpreter": {
    "hash": "ed9f6bfafb24424ac2d7c1a0180a98b6559823ee37c889981a56c6d18cd38889"
   }
  }
 },
 "nbformat": 4,
 "nbformat_minor": 2
}
