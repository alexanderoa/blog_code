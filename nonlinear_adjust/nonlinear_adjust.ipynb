{
 "cells": [
  {
   "cell_type": "code",
   "execution_count": 1,
   "metadata": {},
   "outputs": [],
   "source": [
    "import numpy as np\n",
    "import pandas as pd\n",
    "import statsmodels.api as sm\n",
    "import statsmodels.formula.api as smf\n",
    "import matplotlib.pyplot as plt\n",
    "import seaborn as sns"
   ]
  },
  {
   "cell_type": "code",
   "execution_count": 57,
   "metadata": {},
   "outputs": [
    {
     "data": {
      "text/plain": [
       "<matplotlib.collections.PathCollection at 0x7fdbbfbd8fd0>"
      ]
     },
     "execution_count": 57,
     "metadata": {},
     "output_type": "execute_result"
    },
    {
     "data": {
      "image/png": "[encoded data removed]",
      "text/plain": [
       "<Figure size 640x480 with 1 Axes>"
      ]
     },
     "metadata": {},
     "output_type": "display_data"
    }
   ],
   "source": [
    "rng = np.random.default_rng(seed = 123)\n",
    "n = 250\n",
    "effect = 0.5\n",
    "t_proportion = 0.5\n",
    "x = rng.normal(scale = 1.2, size = (n,))\n",
    "t = rng.binomial(n=1, p=t_proportion, size=(n,))\n",
    "xt = 10*(x**2/20-0.2)*(x/5)\n",
    "y = effect*t + xt + rng.normal(scale = 0.2, size=(n,))\n",
    "plt.scatter(x, y)"
   ]
  },
  {
   "cell_type": "code",
   "execution_count": 59,
   "metadata": {},
   "outputs": [
    {
     "data": {
      "text/html": [
       "<table class=\"simpletable\">\n",
       "<caption>OLS Regression Results</caption>\n",
       "<tr>\n",
       "  <th>Dep. Variable:</th>       <td>y</td>   <th>  R-squared:         </th> <td>   0.274</td>\n",
       "</tr>\n",
       "<tr>\n",
       "  <th>Model:</th>              <td>OLS</td>  <th>  Adj. R-squared:    </th> <td>   0.268</td>\n",
       "</tr>\n",
       "<tr>\n",
       "  <th>No. Observations:</th> <td>   250</td> <th>  F-statistic:       </th> <td>   45.39</td>\n",
       "</tr>\n",
       "<tr>\n",
       "  <th>Covariance Type:</th>    <td>HC2</td>  <th>  Prob (F-statistic):</th> <td>1.63e-17</td>\n",
       "</tr>\n",
       "</table>\n",
       "<table class=\"simpletable\">\n",
       "<tr>\n",
       "      <td></td>         <th>coef</th>     <th>std err</th>      <th>t</th>      <th>P>|t|</th>  <th>[0.025</th>    <th>0.975]</th>  \n",
       "</tr>\n",
       "<tr>\n",
       "  <th>Intercept</th> <td>   -0.0283</td> <td>    0.042</td> <td>   -0.672</td> <td> 0.503</td> <td>   -0.111</td> <td>    0.055</td>\n",
       "</tr>\n",
       "<tr>\n",
       "  <th>t</th>         <td>    0.5001</td> <td>    0.053</td> <td>    9.484</td> <td> 0.000</td> <td>    0.396</td> <td>    0.604</td>\n",
       "</tr>\n",
       "<tr>\n",
       "  <th>x</th>         <td>   -0.0045</td> <td>    0.046</td> <td>   -0.100</td> <td> 0.921</td> <td>   -0.094</td> <td>    0.085</td>\n",
       "</tr>\n",
       "</table><br/><br/>Notes:<br/>[1] Standard Errors are heteroscedasticity robust (HC2)"
      ],
      "text/plain": [
       "<class 'statsmodels.iolib.summary.Summary'>\n",
       "\"\"\"\n",
       "                            OLS Regression Results                            \n",
       "==============================================================================\n",
       "Dep. Variable:                      y   R-squared:                       0.274\n",
       "Model:                            OLS   Adj. R-squared:                  0.268\n",
       "No. Observations:                 250   F-statistic:                     45.39\n",
       "Covariance Type:                  HC2   Prob (F-statistic):           1.63e-17\n",
       "==============================================================================\n",
       "                 coef    std err          t      P>|t|      [0.025      0.975]\n",
       "------------------------------------------------------------------------------\n",
       "Intercept     -0.0283      0.042     -0.672      0.503      -0.111       0.055\n",
       "t              0.5001      0.053      9.484      0.000       0.396       0.604\n",
       "x             -0.0045      0.046     -0.100      0.921      -0.094       0.085\n",
       "==============================================================================\n",
       "\n",
       "Notes:\n",
       "[1] Standard Errors are heteroscedasticity robust (HC2)\n",
       "\"\"\""
      ]
     },
     "execution_count": 59,
     "metadata": {},
     "output_type": "execute_result"
    }
   ],
   "source": [
    "data = pd.DataFrame(\n",
    "    {\"x\" : x,\n",
    "    \"t\": t,\n",
    "    \"y\" : y}\n",
    ")\n",
    "reg = smf.ols(\n",
    "    \"y ~ t + x + t:x\",\n",
    "    data = data\n",
    ").fit()\n",
    "reg.get_robustcov_results('HC2').summary(slim=True)"
   ]
  }
 ],
 "metadata": {
  "kernelspec": {
   "display_name": "Python 3.7.13 ('cfe')",
   "language": "python",
   "name": "python3"
  },
  "language_info": {
   "codemirror_mode": {
    "name": "ipython",
    "version": 3
   },
   "file_extension": ".py",
   "mimetype": "text/x-python",
   "name": "python",
   "nbconvert_exporter": "python",
   "pygments_lexer": "ipython3",
   "version": "3.7.13"
  },
  "orig_nbformat": 4,
  "vscode": {
   "interpreter": {
    "hash": "ed9f6bfafb24424ac2d7c1a0180a98b6559823ee37c889981a56c6d18cd38889"
   }
  }
 },
 "nbformat": 4,
 "nbformat_minor": 2
}
